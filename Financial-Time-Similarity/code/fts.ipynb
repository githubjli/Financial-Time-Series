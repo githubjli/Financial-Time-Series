{
 "cells": [
  {
   "cell_type": "code",
   "execution_count": 2,
   "id": "af5d5c3d",
   "metadata": {},
   "outputs": [
    {
     "name": "stdout",
     "output_type": "stream",
     "text": [
      "0.04575816299588779\n"
     ]
    }
   ],
   "source": [
    "import pandas as pd\n",
    "import numpy as np\n",
    "path1,path2 = \"../data/000001.XSHE.csv\",\"../data/000063.XSHE.csv\",\n",
    "feature = \"rclose\"\n",
    "length = 20\n",
    "rc1,rc2 = pd.read_csv(path1)[feature][:length],pd.read_csv(path2)[feature][:length]\n",
    "\n",
    "\n",
    "cosine = np.dot(rc1, rc2) / (np.linalg.norm(rc1) * (np.linalg.norm(rc2)))\n",
    "\n",
    "print(cosine)"
   ]
  },
  {
   "cell_type": "code",
   "execution_count": 4,
   "id": "d1aafca6",
   "metadata": {},
   "outputs": [
    {
     "name": "stdout",
     "output_type": "stream",
     "text": [
      "0.055501989817443476\n"
     ]
    },
    {
     "data": {
      "text/plain": [
       "(None, None)"
      ]
     },
     "execution_count": 4,
     "metadata": {},
     "output_type": "execute_result"
    }
   ],
   "source": [
    "from dtaidistance import dtw\n",
    "from dtaidistance import dtw_visualisation as dtwvis\n",
    "import pandas as pd\n",
    "\n",
    "# 计算股票间的对数收益时间序列间的动态时间规整距离\n",
    "\n",
    "path1,path2 = \"../data/000001.XSHE.csv\",\"../data/000063.XSHE.csv\",\n",
    "feature = \"rclose\"\n",
    "length = 20\n",
    "window,psi = 10,5\n",
    "\n",
    "rc1,rc2 = pd.read_csv(path1)[feature][:length],pd.read_csv(path2)[feature][:length]\n",
    "dis, paths = dtw.warping_paths(rc1, rc2, window=window, psi=psi)\n",
    "\n",
    "# 动态时间规整距离\n",
    "print(dis)\n",
    "\n",
    "# 绘图（输出形式）\n",
    "best_path = dtw.best_path(paths)\n",
    "dtwvis.plot_warpingpaths(rc1, rc2, paths, best_path,shownumbers=True)\n",
    "\n",
    "# 绘图（保存）\n",
    "path = dtw.warping_path(rc1, rc2)\n",
    "dtwvis.plot_warping(rc1, rc2, path, filename=\"wrapping.png\")"
   ]
  },
  {
   "cell_type": "code",
   "execution_count": 6,
   "id": "5b0fe599",
   "metadata": {},
   "outputs": [
    {
     "name": "stdout",
     "output_type": "stream",
     "text": [
      "0.0023596326805504775\n"
     ]
    }
   ],
   "source": [
    "import os\n",
    "import pandas as pd\n",
    "from scipy.stats import pearsonr\n",
    "\n",
    "# 计算股票间的对数收益时间序列间的皮尔逊相关系数\n",
    "\n",
    "path1,path2 = \"../data/000001.XSHE.csv\",\"../data/000063.XSHE.csv\",\n",
    "feature = \"rclose\"\n",
    "length = 20\n",
    "\n",
    "rc1,rc2 = pd.read_csv(path1)[feature][:length],pd.read_csv(path2)[feature][:length]\n",
    "pcc = pearsonr(rc1,rc2)[0]\n",
    "\n",
    "# 皮尔逊相关系数\n",
    "print(pcc)"
   ]
  },
  {
   "cell_type": "code",
   "execution_count": null,
   "id": "e2e3faba",
   "metadata": {},
   "outputs": [],
   "source": []
  }
 ],
 "metadata": {
  "kernelspec": {
   "display_name": "Python 3",
   "language": "python",
   "name": "python3"
  },
  "language_info": {
   "codemirror_mode": {
    "name": "ipython",
    "version": 3
   },
   "file_extension": ".py",
   "mimetype": "text/x-python",
   "name": "python",
   "nbconvert_exporter": "python",
   "pygments_lexer": "ipython3",
   "version": "3.7.11"
  }
 },
 "nbformat": 4,
 "nbformat_minor": 5
}
